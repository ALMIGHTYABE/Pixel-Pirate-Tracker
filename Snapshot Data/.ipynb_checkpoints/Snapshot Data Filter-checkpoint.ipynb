{
 "cells": [
  {
   "cell_type": "code",
   "execution_count": 1,
   "metadata": {
    "executionInfo": {
     "elapsed": 49,
     "status": "ok",
     "timestamp": 1658489335796,
     "user": {
      "displayName": "Abe Alexander",
      "userId": "01877910403260681130"
     },
     "user_tz": -330
    },
    "id": "pWL8PCS8sB0G"
   },
   "outputs": [],
   "source": [
    "# Import Libraries\n",
    "import pandas as pd "
   ]
  },
  {
   "cell_type": "code",
   "execution_count": null,
   "metadata": {
    "executionInfo": {
     "elapsed": 41,
     "status": "ok",
     "timestamp": 1658489335799,
     "user": {
      "displayName": "Abe Alexander",
      "userId": "01877910403260681130"
     },
     "user_tz": -330
    },
    "id": "w_iZ233kuVTj"
   },
   "outputs": [],
   "source": [
    "df = pd.read_csv(\"https://raw.githubusercontent.com/ALMIGHTYABE/Pixel-Pirate-Tracker/main/ppmain.csv\")\n",
    "df.to_csv(\"ppmain.csv\", index=False)\n",
    "# df.to_excel(\"ppmain.xlsx\", index=False)"
   ]
  },
  {
   "cell_type": "code",
   "execution_count": 2,
   "metadata": {},
   "outputs": [],
   "source": [
    "df = pd.read_csv(\"ppmain.csv\")"
   ]
  },
  {
   "cell_type": "code",
   "execution_count": 3,
   "metadata": {
    "executionInfo": {
     "elapsed": 17,
     "status": "ok",
     "timestamp": 1658489388963,
     "user": {
      "displayName": "Abe Alexander",
      "userId": "01877910403260681130"
     },
     "user_tz": -330
    },
    "id": "abGcr0javUl7",
    "scrolled": true
   },
   "outputs": [],
   "source": [
    "df2 = pd.DataFrame()\n",
    "temp_list = []\n",
    "for i in df['address'].unique():\n",
    "    temp_df = df[df[\"address\"] == i]\n",
    "\n",
    "    # Computing Eligibility\n",
    "    batch_counts = pd.DataFrame(temp_df['Batch'].value_counts())\n",
    "    batch_counts.reset_index(inplace=True)\n",
    "    batch_counts.columns = ['Batch', 'Number of PPs']\n",
    "    batch_counts.sort_values(by=['Batch'], axis=0, inplace=True)\n",
    "    batch_counts.style.hide_index()\n",
    "    min_pp = batch_counts['Number of PPs'].min()\n",
    "    batch_counts['Bool'] = batch_counts['Number of PPs'].apply(lambda i: True if i >= min_pp else False)\n",
    "    batch_counts['address'] = i \n",
    "    \n",
    "    # Treasures\n",
    "    if (batch_counts['Bool'].all(axis=0)) & (min_pp >= 1) & (len(batch_counts) == 6):\n",
    "        temp_list.append([i, min_pp])\n",
    "    \n",
    "    \n",
    "    \n",
    "    batch_counts = batch_counts[['address', 'Batch', 'Number of PPs']]\n",
    "    df2=df2.append(batch_counts)"
   ]
  },
  {
   "cell_type": "code",
   "execution_count": 4,
   "metadata": {},
   "outputs": [],
   "source": [
    "df2.to_csv(\"PP Batch Wise.csv\", index=False)\n",
    "# df2.to_excel(\"PP Batch Wise.xlsx\", index=False)"
   ]
  },
  {
   "cell_type": "code",
   "execution_count": 5,
   "metadata": {},
   "outputs": [],
   "source": [
    "df3 = pd.DataFrame(temp_list)\n",
    "df3.columns = ['address', 'Treasures']\n",
    "df3 = df3.sort_values(by=\"Treasures\", ascending=False)\n",
    "df3.to_csv(\"Treasure Address Wise.csv\", index = False)\n",
    "# df3.to_excel(\"Treasure Address Wise.xlsx\", index=False)"
   ]
  },
  {
   "cell_type": "code",
   "execution_count": 6,
   "metadata": {},
   "outputs": [],
   "source": [
    "emp_list = []\n",
    "for i in df['address'].unique():\n",
    "    uni_df = df[df['address']==i]\n",
    "\n",
    "    b1 = len(uni_df[\"Background\"].unique())\n",
    "    b2 = len(uni_df[\"Base\"].unique())\n",
    "    b3 = len(uni_df[\"Outfit\"].unique())\n",
    "    b4 = len(uni_df[\"Necklace\"].unique())\n",
    "    b5 = len(uni_df[\"Eye\"].unique())\n",
    "    b6 = len(uni_df[\"Beard\"].unique())\n",
    "    b7 = len(uni_df[\"Hair\"].unique())\n",
    "    b8 = len(uni_df[\"Hat\"].unique())\n",
    "    b9 = len(uni_df[\"Hand_Accessories\"].unique())\n",
    "    b10 = len(uni_df[\"Shoulder\"].unique())\n",
    "    b11 = len(uni_df[\"Background\"].unique())\n",
    "\n",
    "    total_unique = b1+b2+b3+b4+b5+b6+b7+b8+b9+b10+b11\n",
    "\n",
    "    emp_list.append([i, total_unique])"
   ]
  },
  {
   "cell_type": "code",
   "execution_count": 7,
   "metadata": {},
   "outputs": [],
   "source": [
    "df4 = pd.DataFrame(emp_list)\n",
    "df4.columns = ['address', 'Unique Traits']\n",
    "df4 = df4.sort_values(by=\"Unique Traits\", ascending=False)\n",
    "df4.to_csv(\"Unique Trait Count.csv\", index = False)\n",
    "# df4.to_excel(\"Unique Trait Count.xlsx\", index=False)"
   ]
  }
 ],
 "metadata": {
  "colab": {
   "authorship_tag": "ABX9TyNKwOMSzi11AU0XW5cByki/",
   "collapsed_sections": [],
   "name": "Pp data.ipynb",
   "provenance": []
  },
  "kernelspec": {
   "display_name": "Python 3",
   "language": "python",
   "name": "python3"
  },
  "language_info": {
   "codemirror_mode": {
    "name": "ipython",
    "version": 3
   },
   "file_extension": ".py",
   "mimetype": "text/x-python",
   "name": "python",
   "nbconvert_exporter": "python",
   "pygments_lexer": "ipython3",
   "version": "3.8.10"
  }
 },
 "nbformat": 4,
 "nbformat_minor": 1
}
